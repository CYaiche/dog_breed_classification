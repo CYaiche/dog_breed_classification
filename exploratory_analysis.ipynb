{
 "cells": [
  {
   "cell_type": "markdown",
   "metadata": {},
   "source": [
    "# EDA : Standford Dogs Dataset \n"
   ]
  },
  {
   "cell_type": "code",
   "execution_count": 1,
   "metadata": {},
   "outputs": [],
   "source": [
    "import os\n",
    "import numpy as np\n",
    "import matplotlib.pyplot as plt \n",
    "\n",
    "from common_params import data_dir\n",
    "import scipy.io\n",
    "import fnmatch\n",
    "import pandas as pd \n",
    "import cv2 # opencv"
   ]
  },
  {
   "cell_type": "markdown",
   "metadata": {},
   "source": [
    "# Number of images per files \n",
    "\n"
   ]
  },
  {
   "cell_type": "code",
   "execution_count": 2,
   "metadata": {},
   "outputs": [],
   "source": [
    "image_dir = data_dir + \"Images\\\\\"\n",
    "data = pd.DataFrame()\n",
    "\n",
    "for folder in os.scandir(image_dir): \n",
    "    folder_name = folder.name\n",
    "    dog_breed = folder.name.split('-')[1]\n",
    "\n",
    "    if folder.is_dir : \n",
    "        cnt = len(fnmatch.filter(os.scandir(folder), \"*.*\"))\n",
    "    data = data.append({'dog_breed' : dog_breed, 'folder_name' :folder.name, 'image_count' : cnt },ignore_index=True)\n",
    "\n",
    "    "
   ]
  },
  {
   "cell_type": "markdown",
   "metadata": {},
   "source": [
    "# Dataset count"
   ]
  },
  {
   "cell_type": "code",
   "execution_count": 3,
   "metadata": {},
   "outputs": [
    {
     "data": {
      "text/html": [
       "<div>\n",
       "<style scoped>\n",
       "    .dataframe tbody tr th:only-of-type {\n",
       "        vertical-align: middle;\n",
       "    }\n",
       "\n",
       "    .dataframe tbody tr th {\n",
       "        vertical-align: top;\n",
       "    }\n",
       "\n",
       "    .dataframe thead th {\n",
       "        text-align: right;\n",
       "    }\n",
       "</style>\n",
       "<table border=\"1\" class=\"dataframe\">\n",
       "  <thead>\n",
       "    <tr style=\"text-align: right;\">\n",
       "      <th></th>\n",
       "      <th>dog_breed</th>\n",
       "      <th>folder_name</th>\n",
       "      <th>image_count</th>\n",
       "    </tr>\n",
       "  </thead>\n",
       "  <tbody>\n",
       "    <tr>\n",
       "      <th>0</th>\n",
       "      <td>Chihuahua</td>\n",
       "      <td>n02085620-Chihuahua</td>\n",
       "      <td>152.0</td>\n",
       "    </tr>\n",
       "    <tr>\n",
       "      <th>1</th>\n",
       "      <td>Japanese_spaniel</td>\n",
       "      <td>n02085782-Japanese_spaniel</td>\n",
       "      <td>185.0</td>\n",
       "    </tr>\n",
       "    <tr>\n",
       "      <th>2</th>\n",
       "      <td>Maltese_dog</td>\n",
       "      <td>n02085936-Maltese_dog</td>\n",
       "      <td>252.0</td>\n",
       "    </tr>\n",
       "    <tr>\n",
       "      <th>3</th>\n",
       "      <td>Pekinese</td>\n",
       "      <td>n02086079-Pekinese</td>\n",
       "      <td>149.0</td>\n",
       "    </tr>\n",
       "    <tr>\n",
       "      <th>4</th>\n",
       "      <td>Shih</td>\n",
       "      <td>n02086240-Shih-Tzu</td>\n",
       "      <td>214.0</td>\n",
       "    </tr>\n",
       "  </tbody>\n",
       "</table>\n",
       "</div>"
      ],
      "text/plain": [
       "          dog_breed                 folder_name  image_count\n",
       "0         Chihuahua         n02085620-Chihuahua        152.0\n",
       "1  Japanese_spaniel  n02085782-Japanese_spaniel        185.0\n",
       "2       Maltese_dog       n02085936-Maltese_dog        252.0\n",
       "3          Pekinese          n02086079-Pekinese        149.0\n",
       "4              Shih          n02086240-Shih-Tzu        214.0"
      ]
     },
     "execution_count": 3,
     "metadata": {},
     "output_type": "execute_result"
    }
   ],
   "source": [
    "data.head()"
   ]
  },
  {
   "cell_type": "code",
   "execution_count": 4,
   "metadata": {},
   "outputs": [],
   "source": [
    "\n",
    "data = data.sort_values(by=\"image_count\",ascending=False)"
   ]
  },
  {
   "cell_type": "code",
   "execution_count": 5,
   "metadata": {},
   "outputs": [
    {
     "data": {
      "text/html": [
       "<div>\n",
       "<style scoped>\n",
       "    .dataframe tbody tr th:only-of-type {\n",
       "        vertical-align: middle;\n",
       "    }\n",
       "\n",
       "    .dataframe tbody tr th {\n",
       "        vertical-align: top;\n",
       "    }\n",
       "\n",
       "    .dataframe thead th {\n",
       "        text-align: right;\n",
       "    }\n",
       "</style>\n",
       "<table border=\"1\" class=\"dataframe\">\n",
       "  <thead>\n",
       "    <tr style=\"text-align: right;\">\n",
       "      <th></th>\n",
       "      <th>image_count</th>\n",
       "    </tr>\n",
       "  </thead>\n",
       "  <tbody>\n",
       "    <tr>\n",
       "      <th>count</th>\n",
       "      <td>120.000000</td>\n",
       "    </tr>\n",
       "    <tr>\n",
       "      <th>mean</th>\n",
       "      <td>171.500000</td>\n",
       "    </tr>\n",
       "    <tr>\n",
       "      <th>std</th>\n",
       "      <td>23.220898</td>\n",
       "    </tr>\n",
       "    <tr>\n",
       "      <th>min</th>\n",
       "      <td>148.000000</td>\n",
       "    </tr>\n",
       "    <tr>\n",
       "      <th>25%</th>\n",
       "      <td>152.750000</td>\n",
       "    </tr>\n",
       "    <tr>\n",
       "      <th>50%</th>\n",
       "      <td>159.500000</td>\n",
       "    </tr>\n",
       "    <tr>\n",
       "      <th>75%</th>\n",
       "      <td>186.250000</td>\n",
       "    </tr>\n",
       "    <tr>\n",
       "      <th>max</th>\n",
       "      <td>252.000000</td>\n",
       "    </tr>\n",
       "  </tbody>\n",
       "</table>\n",
       "</div>"
      ],
      "text/plain": [
       "       image_count\n",
       "count   120.000000\n",
       "mean    171.500000\n",
       "std      23.220898\n",
       "min     148.000000\n",
       "25%     152.750000\n",
       "50%     159.500000\n",
       "75%     186.250000\n",
       "max     252.000000"
      ]
     },
     "execution_count": 5,
     "metadata": {},
     "output_type": "execute_result"
    }
   ],
   "source": [
    "data.describe()"
   ]
  },
  {
   "cell_type": "code",
   "execution_count": 6,
   "metadata": {},
   "outputs": [
    {
     "name": "stdout",
     "output_type": "stream",
     "text": [
      "Number of breed with data above the third quantile : 30\n",
      "Number of breed with data above the first quantile : 90\n"
     ]
    }
   ],
   "source": [
    "nbq75 = data[data['image_count'] > data['image_count'].quantile(0.75)]['image_count'].count()\n",
    "nbq25 = data[data['image_count'] > data['image_count'].quantile(0.25)]['image_count'].count()\n",
    "print(f\"Number of breed with data above the third quantile : {nbq75}\")\n",
    "print(f\"Number of breed with data above the first quantile : {nbq25}\")"
   ]
  },
  {
   "cell_type": "code",
   "execution_count": 7,
   "metadata": {},
   "outputs": [
    {
     "data": {
      "text/plain": [
       "30"
      ]
     },
     "execution_count": 7,
     "metadata": {},
     "output_type": "execute_result"
    }
   ],
   "source": [
    "selected_breed = data[data['image_count'] > data['image_count'].quantile(0.75)]\n",
    "selected_breed.count().values[0]"
   ]
  },
  {
   "cell_type": "code",
   "execution_count": 8,
   "metadata": {},
   "outputs": [],
   "source": [
    "selected_breed.to_csv(\"selected_breed.csv\")"
   ]
  },
  {
   "cell_type": "code",
   "execution_count": 9,
   "metadata": {},
   "outputs": [
    {
     "data": {
      "image/png": "[encoded data removed]",
      "text/plain": [
       "<Figure size 640x480 with 1 Axes>"
      ]
     },
     "metadata": {},
     "output_type": "display_data"
    }
   ],
   "source": [
    "data.boxplot()\n",
    "plt.show()"
   ]
  },
  {
   "cell_type": "code",
   "execution_count": 10,
   "metadata": {},
   "outputs": [
    {
     "name": "stdout",
     "output_type": "stream",
     "text": [
      "Standford Dog dataset image number : 20580\n",
      "with 120 dog breeds, each containing from 148 to 252 images with a median of 159 images\n"
     ]
    }
   ],
   "source": [
    "total_image_number = int(data[\"image_count\"].sum())\n",
    "image_number_min = int(data[\"image_count\"].min())\n",
    "image_number_max = int(data[\"image_count\"].max())\n",
    "image_number_med = int(data[\"image_count\"].median())\n",
    "print(f\"Standford Dog dataset image number : { total_image_number }\")\n",
    "print(f\"with {data.shape[0]} dog breeds, each containing \\\n",
    "from {image_number_min} to {image_number_max} images with a median of {image_number_med} images\")"
   ]
  },
  {
   "cell_type": "code",
   "execution_count": 11,
   "metadata": {},
   "outputs": [
    {
     "data": {
      "text/html": [
       "<div>\n",
       "<style scoped>\n",
       "    .dataframe tbody tr th:only-of-type {\n",
       "        vertical-align: middle;\n",
       "    }\n",
       "\n",
       "    .dataframe tbody tr th {\n",
       "        vertical-align: top;\n",
       "    }\n",
       "\n",
       "    .dataframe thead th {\n",
       "        text-align: right;\n",
       "    }\n",
       "</style>\n",
       "<table border=\"1\" class=\"dataframe\">\n",
       "  <thead>\n",
       "    <tr style=\"text-align: right;\">\n",
       "      <th></th>\n",
       "      <th>dog_breed</th>\n",
       "      <th>folder_name</th>\n",
       "      <th>image_count</th>\n",
       "    </tr>\n",
       "  </thead>\n",
       "  <tbody>\n",
       "    <tr>\n",
       "      <th>2</th>\n",
       "      <td>Maltese_dog</td>\n",
       "      <td>n02085936-Maltese_dog</td>\n",
       "      <td>252.0</td>\n",
       "    </tr>\n",
       "    <tr>\n",
       "      <th>9</th>\n",
       "      <td>Afghan_hound</td>\n",
       "      <td>n02088094-Afghan_hound</td>\n",
       "      <td>239.0</td>\n",
       "    </tr>\n",
       "    <tr>\n",
       "      <th>26</th>\n",
       "      <td>Scottish_deerhound</td>\n",
       "      <td>n02092002-Scottish_deerhound</td>\n",
       "      <td>232.0</td>\n",
       "    </tr>\n",
       "    <tr>\n",
       "      <th>107</th>\n",
       "      <td>Pomeranian</td>\n",
       "      <td>n02112018-Pomeranian</td>\n",
       "      <td>219.0</td>\n",
       "    </tr>\n",
       "    <tr>\n",
       "      <th>88</th>\n",
       "      <td>Bernese_mountain_dog</td>\n",
       "      <td>n02107683-Bernese_mountain_dog</td>\n",
       "      <td>218.0</td>\n",
       "    </tr>\n",
       "  </tbody>\n",
       "</table>\n",
       "</div>"
      ],
      "text/plain": [
       "                dog_breed                     folder_name  image_count\n",
       "2             Maltese_dog           n02085936-Maltese_dog        252.0\n",
       "9            Afghan_hound          n02088094-Afghan_hound        239.0\n",
       "26     Scottish_deerhound    n02092002-Scottish_deerhound        232.0\n",
       "107            Pomeranian            n02112018-Pomeranian        219.0\n",
       "88   Bernese_mountain_dog  n02107683-Bernese_mountain_dog        218.0"
      ]
     },
     "execution_count": 11,
     "metadata": {},
     "output_type": "execute_result"
    }
   ],
   "source": [
    "data.head()"
   ]
  },
  {
   "cell_type": "code",
   "execution_count": 12,
   "metadata": {},
   "outputs": [],
   "source": [
    "def get_image_from_breed(data, breed): \n",
    "    folder = data[data[\"dog_breed\"] == breed][\"folder_name\"].values[0]\n",
    "    redboneDir  = image_dir + folder\n",
    "    image_path = os.path.join(redboneDir , os.listdir(redboneDir)[0])\n",
    "    img = cv2.imread(image_path)\n",
    "    return img \n"
   ]
  },
  {
   "cell_type": "markdown",
   "metadata": {},
   "source": [
    "# Top four breed "
   ]
  },
  {
   "cell_type": "code",
   "execution_count": 13,
   "metadata": {},
   "outputs": [
    {
     "data": {
      "text/html": [
       "<div>\n",
       "<style scoped>\n",
       "    .dataframe tbody tr th:only-of-type {\n",
       "        vertical-align: middle;\n",
       "    }\n",
       "\n",
       "    .dataframe tbody tr th {\n",
       "        vertical-align: top;\n",
       "    }\n",
       "\n",
       "    .dataframe thead th {\n",
       "        text-align: right;\n",
       "    }\n",
       "</style>\n",
       "<table border=\"1\" class=\"dataframe\">\n",
       "  <thead>\n",
       "    <tr style=\"text-align: right;\">\n",
       "      <th></th>\n",
       "      <th>dog_breed</th>\n",
       "      <th>folder_name</th>\n",
       "      <th>image_count</th>\n",
       "    </tr>\n",
       "  </thead>\n",
       "  <tbody>\n",
       "    <tr>\n",
       "      <th>2</th>\n",
       "      <td>Maltese_dog</td>\n",
       "      <td>n02085936-Maltese_dog</td>\n",
       "      <td>252.0</td>\n",
       "    </tr>\n",
       "    <tr>\n",
       "      <th>9</th>\n",
       "      <td>Afghan_hound</td>\n",
       "      <td>n02088094-Afghan_hound</td>\n",
       "      <td>239.0</td>\n",
       "    </tr>\n",
       "    <tr>\n",
       "      <th>26</th>\n",
       "      <td>Scottish_deerhound</td>\n",
       "      <td>n02092002-Scottish_deerhound</td>\n",
       "      <td>232.0</td>\n",
       "    </tr>\n",
       "    <tr>\n",
       "      <th>107</th>\n",
       "      <td>Pomeranian</td>\n",
       "      <td>n02112018-Pomeranian</td>\n",
       "      <td>219.0</td>\n",
       "    </tr>\n",
       "  </tbody>\n",
       "</table>\n",
       "</div>"
      ],
      "text/plain": [
       "              dog_breed                   folder_name  image_count\n",
       "2           Maltese_dog         n02085936-Maltese_dog        252.0\n",
       "9          Afghan_hound        n02088094-Afghan_hound        239.0\n",
       "26   Scottish_deerhound  n02092002-Scottish_deerhound        232.0\n",
       "107          Pomeranian          n02112018-Pomeranian        219.0"
      ]
     },
     "execution_count": 13,
     "metadata": {},
     "output_type": "execute_result"
    }
   ],
   "source": [
    "data.head(4)"
   ]
  },
  {
   "cell_type": "code",
   "execution_count": 14,
   "metadata": {},
   "outputs": [
    {
     "data": {
      "text/plain": [
       "dog_breed                Scottish_deerhound\n",
       "folder_name    n02092002-Scottish_deerhound\n",
       "image_count                           232.0\n",
       "Name: 26, dtype: object"
      ]
     },
     "execution_count": 14,
     "metadata": {},
     "output_type": "execute_result"
    }
   ],
   "source": [
    "breed_idx = data.head(4).index\n",
    "data.iloc[breed_idx[0]]"
   ]
  },
  {
   "cell_type": "code",
   "execution_count": 15,
   "metadata": {},
   "outputs": [
    {
     "data": {
      "text/plain": [
       "'Scottish_deerhound'"
      ]
     },
     "execution_count": 15,
     "metadata": {},
     "output_type": "execute_result"
    }
   ],
   "source": [
    "data.iloc[breed_idx[0]]['dog_breed']"
   ]
  },
  {
   "cell_type": "code",
   "execution_count": 16,
   "metadata": {},
   "outputs": [
    {
     "data": {
      "text/html": [
       "<div>\n",
       "<style scoped>\n",
       "    .dataframe tbody tr th:only-of-type {\n",
       "        vertical-align: middle;\n",
       "    }\n",
       "\n",
       "    .dataframe tbody tr th {\n",
       "        vertical-align: top;\n",
       "    }\n",
       "\n",
       "    .dataframe thead th {\n",
       "        text-align: right;\n",
       "    }\n",
       "</style>\n",
       "<table border=\"1\" class=\"dataframe\">\n",
       "  <thead>\n",
       "    <tr style=\"text-align: right;\">\n",
       "      <th></th>\n",
       "      <th>dog_breed</th>\n",
       "      <th>folder_name</th>\n",
       "      <th>image_count</th>\n",
       "    </tr>\n",
       "  </thead>\n",
       "  <tbody>\n",
       "    <tr>\n",
       "      <th>2</th>\n",
       "      <td>Maltese_dog</td>\n",
       "      <td>n02085936-Maltese_dog</td>\n",
       "      <td>252.0</td>\n",
       "    </tr>\n",
       "    <tr>\n",
       "      <th>9</th>\n",
       "      <td>Afghan_hound</td>\n",
       "      <td>n02088094-Afghan_hound</td>\n",
       "      <td>239.0</td>\n",
       "    </tr>\n",
       "    <tr>\n",
       "      <th>26</th>\n",
       "      <td>Scottish_deerhound</td>\n",
       "      <td>n02092002-Scottish_deerhound</td>\n",
       "      <td>232.0</td>\n",
       "    </tr>\n",
       "    <tr>\n",
       "      <th>107</th>\n",
       "      <td>Pomeranian</td>\n",
       "      <td>n02112018-Pomeranian</td>\n",
       "      <td>219.0</td>\n",
       "    </tr>\n",
       "  </tbody>\n",
       "</table>\n",
       "</div>"
      ],
      "text/plain": [
       "              dog_breed                   folder_name  image_count\n",
       "2           Maltese_dog         n02085936-Maltese_dog        252.0\n",
       "9          Afghan_hound        n02088094-Afghan_hound        239.0\n",
       "26   Scottish_deerhound  n02092002-Scottish_deerhound        232.0\n",
       "107          Pomeranian          n02112018-Pomeranian        219.0"
      ]
     },
     "execution_count": 16,
     "metadata": {},
     "output_type": "execute_result"
    }
   ],
   "source": [
    "data.head(4)"
   ]
  },
  {
   "cell_type": "code",
   "execution_count": 17,
   "metadata": {},
   "outputs": [],
   "source": [
    "N, M = 2,2\n",
    "data.head(N+M)['dog_breed'].values\n",
    "breed_idx = data.head(N+M).index\n",
    "fig, axs = plt.subplots(N,M)\n",
    "cnt = 0 \n",
    "for i in range(N) : \n",
    "    for j in range(M) : \n",
    "        dog_info = data.loc[breed_idx[cnt]]\n",
    "        axs[i,j].imshow(cv2.cvtColor(get_image_from_breed(data, dog_info['dog_breed'] ),cv2.IMREAD_ANYCOLOR))\n",
    "        axs[i,j].set_title(f\"{dog_info['dog_breed']},  {int(dog_info['image_count'])}\")\n",
    "        axs[i,j].axis(\"off\")\n",
    "        cnt = cnt + 1 "
   ]
  },
  {
   "cell_type": "markdown",
   "metadata": {},
   "source": [
    "# Image size"
   ]
  },
  {
   "cell_type": "code",
   "execution_count": 18,
   "metadata": {},
   "outputs": [],
   "source": [
    "breed_nb = data.shape[0]\n",
    "dog_img_size = pd.DataFrame()\n",
    "for i in range(breed_nb) : \n",
    "    \n",
    "    dog_folder = os.path.join(image_dir, data.loc[i][\"folder_name\"])\n",
    "    dog_breed = data.loc[i][\"dog_breed\"]\n",
    "    for img in os.scandir(dog_folder) : \n",
    "        img_path = os.path.join(dog_folder, img.name)\n",
    "        img_read = cv2.imread(img_path)\n",
    "        height, width, channels = img_read.shape\n",
    "        dog_img_size = dog_img_size.append({'breed' : dog_breed, 'height' : height, 'width': width,'channels' : channels}, ignore_index=True)\n"
   ]
  },
  {
   "cell_type": "code",
   "execution_count": 19,
   "metadata": {},
   "outputs": [
    {
     "data": {
      "text/html": [
       "<div>\n",
       "<style scoped>\n",
       "    .dataframe tbody tr th:only-of-type {\n",
       "        vertical-align: middle;\n",
       "    }\n",
       "\n",
       "    .dataframe tbody tr th {\n",
       "        vertical-align: top;\n",
       "    }\n",
       "\n",
       "    .dataframe thead th {\n",
       "        text-align: right;\n",
       "    }\n",
       "</style>\n",
       "<table border=\"1\" class=\"dataframe\">\n",
       "  <thead>\n",
       "    <tr style=\"text-align: right;\">\n",
       "      <th></th>\n",
       "      <th>height</th>\n",
       "      <th>width</th>\n",
       "      <th>channels</th>\n",
       "    </tr>\n",
       "  </thead>\n",
       "  <tbody>\n",
       "    <tr>\n",
       "      <th>count</th>\n",
       "      <td>20580.000000</td>\n",
       "      <td>20580.000000</td>\n",
       "      <td>20580.0</td>\n",
       "    </tr>\n",
       "    <tr>\n",
       "      <th>mean</th>\n",
       "      <td>385.861224</td>\n",
       "      <td>442.531876</td>\n",
       "      <td>3.0</td>\n",
       "    </tr>\n",
       "    <tr>\n",
       "      <th>std</th>\n",
       "      <td>124.863446</td>\n",
       "      <td>142.792308</td>\n",
       "      <td>0.0</td>\n",
       "    </tr>\n",
       "    <tr>\n",
       "      <th>min</th>\n",
       "      <td>100.000000</td>\n",
       "      <td>97.000000</td>\n",
       "      <td>3.0</td>\n",
       "    </tr>\n",
       "    <tr>\n",
       "      <th>25%</th>\n",
       "      <td>333.000000</td>\n",
       "      <td>361.000000</td>\n",
       "      <td>3.0</td>\n",
       "    </tr>\n",
       "    <tr>\n",
       "      <th>50%</th>\n",
       "      <td>375.000000</td>\n",
       "      <td>500.000000</td>\n",
       "      <td>3.0</td>\n",
       "    </tr>\n",
       "    <tr>\n",
       "      <th>75%</th>\n",
       "      <td>453.000000</td>\n",
       "      <td>500.000000</td>\n",
       "      <td>3.0</td>\n",
       "    </tr>\n",
       "    <tr>\n",
       "      <th>max</th>\n",
       "      <td>2562.000000</td>\n",
       "      <td>3264.000000</td>\n",
       "      <td>3.0</td>\n",
       "    </tr>\n",
       "  </tbody>\n",
       "</table>\n",
       "</div>"
      ],
      "text/plain": [
       "             height         width  channels\n",
       "count  20580.000000  20580.000000   20580.0\n",
       "mean     385.861224    442.531876       3.0\n",
       "std      124.863446    142.792308       0.0\n",
       "min      100.000000     97.000000       3.0\n",
       "25%      333.000000    361.000000       3.0\n",
       "50%      375.000000    500.000000       3.0\n",
       "75%      453.000000    500.000000       3.0\n",
       "max     2562.000000   3264.000000       3.0"
      ]
     },
     "execution_count": 19,
     "metadata": {},
     "output_type": "execute_result"
    }
   ],
   "source": [
    "dog_img_size.describe()"
   ]
  },
  {
   "cell_type": "markdown",
   "metadata": {},
   "source": [
    "All images are 3 channels, meaning colored images, however they do not have the same size."
   ]
  },
  {
   "cell_type": "code",
   "execution_count": 20,
   "metadata": {},
   "outputs": [
    {
     "data": {
      "text/plain": [
       "[]"
      ]
     },
     "execution_count": 20,
     "metadata": {},
     "output_type": "execute_result"
    }
   ],
   "source": [
    "plt.hist(dog_img_size[[\"height\",\"width\"]],label= [\"height\",\"width\"])\n",
    "plt.legend()\n",
    "plt.plot()"
   ]
  },
  {
   "cell_type": "markdown",
   "metadata": {},
   "source": [
    "## Using annotation "
   ]
  },
  {
   "cell_type": "code",
   "execution_count": 21,
   "metadata": {},
   "outputs": [],
   "source": [
    "annotation_dir = os.path.join(data_dir,\"Annotation\")"
   ]
  },
  {
   "cell_type": "code",
   "execution_count": 29,
   "metadata": {},
   "outputs": [],
   "source": [
    "test_file = \"C:\\dev\\image_classification\\data\\Annotation\\\\n02085620-Chihuahua\\\\n02085620_7\""
   ]
  },
  {
   "cell_type": "code",
   "execution_count": 25,
   "metadata": {},
   "outputs": [],
   "source": [
    "import xml.etree.ElementTree as ET\n",
    "tree = ET.parse(test_file)\n",
    "root = tree.getroot()"
   ]
  },
  {
   "cell_type": "code",
   "execution_count": 26,
   "metadata": {},
   "outputs": [
    {
     "data": {
      "text/plain": [
       "'annotation'"
      ]
     },
     "execution_count": 26,
     "metadata": {},
     "output_type": "execute_result"
    }
   ],
   "source": [
    "root.tag"
   ]
  },
  {
   "cell_type": "code",
   "execution_count": 40,
   "metadata": {},
   "outputs": [
    {
     "name": "stdout",
     "output_type": "stream",
     "text": [
      "<Element 'object' at 0x00000178963E7EA8>\n",
      "<Element 'name' at 0x00000178963E7EF8>\n"
     ]
    },
    {
     "ename": "AttributeError",
     "evalue": "'NoneType' object has no attribute 'text'",
     "output_type": "error",
     "traceback": [
      "\u001b[1;31m---------------------------------------------------------------------------\u001b[0m",
      "\u001b[1;31mAttributeError\u001b[0m                            Traceback (most recent call last)",
      "\u001b[1;32m~\\AppData\\Local\\Temp\\ipykernel_29204\\3368638383.py\u001b[0m in \u001b[0;36m<module>\u001b[1;34m\u001b[0m\n\u001b[0;32m      3\u001b[0m     \u001b[1;32mfor\u001b[0m \u001b[0mbndbox\u001b[0m \u001b[1;32min\u001b[0m \u001b[0mobj\u001b[0m \u001b[1;33m:\u001b[0m\u001b[1;33m\u001b[0m\u001b[1;33m\u001b[0m\u001b[0m\n\u001b[0;32m      4\u001b[0m         \u001b[0mprint\u001b[0m\u001b[1;33m(\u001b[0m\u001b[0mbndbox\u001b[0m\u001b[1;33m)\u001b[0m\u001b[1;33m\u001b[0m\u001b[1;33m\u001b[0m\u001b[0m\n\u001b[1;32m----> 5\u001b[1;33m         \u001b[0mprint\u001b[0m\u001b[1;33m(\u001b[0m\u001b[0mbndbox\u001b[0m\u001b[1;33m.\u001b[0m\u001b[0mget\u001b[0m\u001b[1;33m(\u001b[0m\u001b[1;34m'name'\u001b[0m\u001b[1;33m)\u001b[0m\u001b[1;33m.\u001b[0m\u001b[0mtext\u001b[0m\u001b[1;33m)\u001b[0m\u001b[1;33m\u001b[0m\u001b[1;33m\u001b[0m\u001b[0m\n\u001b[0m\u001b[0;32m      6\u001b[0m     \u001b[0mbndbox\u001b[0m \u001b[1;33m=\u001b[0m \u001b[0mobj\u001b[0m\u001b[1;33m.\u001b[0m\u001b[0mget\u001b[0m\u001b[1;33m(\u001b[0m\u001b[1;34m'bndbox'\u001b[0m\u001b[1;33m)\u001b[0m\u001b[1;33m.\u001b[0m\u001b[0mtext\u001b[0m\u001b[1;33m\u001b[0m\u001b[1;33m\u001b[0m\u001b[0m\n\u001b[0;32m      7\u001b[0m     \u001b[0mbndbox_ymin\u001b[0m \u001b[1;33m=\u001b[0m \u001b[0mobj\u001b[0m\u001b[1;33m.\u001b[0m\u001b[0mget\u001b[0m\u001b[1;33m(\u001b[0m\u001b[1;34m'ymin'\u001b[0m\u001b[1;33m)\u001b[0m\u001b[1;33m\u001b[0m\u001b[1;33m\u001b[0m\u001b[0m\n",
      "\u001b[1;31mAttributeError\u001b[0m: 'NoneType' object has no attribute 'text'"
     ]
    }
   ],
   "source": [
    "for obj in root.findall('object'):\n",
    "    print(obj)\n",
    "    for bndbox in obj :\n",
    "        print(bndbox)\n",
    "        print(bndbox.get('name').text)\n",
    "    bndbox = obj.get('bndbox').text\n",
    "    bndbox_ymin = obj.get('ymin')\n",
    "    print(bndbox, bndbox_ymin)\n"
   ]
  },
  {
   "cell_type": "code",
   "execution_count": 93,
   "metadata": {},
   "outputs": [
    {
     "name": "stdout",
     "output_type": "stream",
     "text": [
      "{ 'annotation': { 'filename': 'n02085620_7',\n",
      "                  'folder': '02085620',\n",
      "                  'object': [ { 'bndbox': { 'xmax': '192',\n",
      "                                            'xmin': '71',\n",
      "                                            'ymax': '180',\n",
      "                                            'ymin': '1'},\n",
      "                                'difficult': '0',\n",
      "                                'name': 'Chihuahua',\n",
      "                                'pose': 'Unspecified',\n",
      "                                'truncated': '0'},\n",
      "                              { 'bndbox': { 'xmax': '192',\n",
      "                                            'xmin': '71',\n",
      "                                            'ymax': '180',\n",
      "                                            'ymin': '1'},\n",
      "                                'difficult': '0',\n",
      "                                'name': 'Chihuahua',\n",
      "                                'pose': 'Unspecified',\n",
      "                                'truncated': '0'}],\n",
      "                  'segment': '0',\n",
      "                  'size': {'depth': '3', 'height': '188', 'width': '250'},\n",
      "                  'source': {'database': 'ImageNet database'}}}\n"
     ]
    }
   ],
   "source": [
    "\n",
    "# Import the required modules\n",
    "import xmltodict\n",
    "import pprint\n",
    "\n",
    "# Open the file and read the contents\n",
    "with open(test_file, 'r', encoding='utf-8') as file:\n",
    "    my_xml = file.read()\n",
    "\n",
    "# Use xmltodict to parse and convert \n",
    "# the XML document\n",
    "my_dict = xmltodict.parse(my_xml)\n",
    "\n",
    "# Print the dictionary\n",
    "pprint.pprint(my_dict, indent=2)"
   ]
  },
  {
   "cell_type": "code",
   "execution_count": 106,
   "metadata": {},
   "outputs": [],
   "source": [
    "def get_number_of_dog_per_image(): \n",
    "    breed_nb = data.shape[0]\n",
    "    nb_dog = pd.DataFrame()\n",
    "    for i in range(breed_nb) : \n",
    "        \n",
    "        dog_folder = os.path.join(annotation_dir, data.loc[i][\"folder_name\"])\n",
    "        dog_breed = data.loc[i][\"dog_breed\"]\n",
    "        for img in os.scandir(dog_folder) : \n",
    "            annotation_path = os.path.join(dog_folder, img.name)\n",
    "            # Open the file and read the contents\n",
    "            with open(annotation_path, 'r', encoding='utf-8') as file:\n",
    "                my_xml = file.read()\n",
    "            my_dict = xmltodict.parse(my_xml)\n",
    "            breeds = []\n",
    "            objects = my_dict[\"annotation\"][\"object\"]\n",
    "            print(objects)\n",
    "            try :\n",
    "                objects.get(\"name\")\n",
    "                nb_dog = 1 \n",
    "            except : \n",
    "                nb_dog = len(my_dict[\"annotation\"][\"object\"])\n",
    "            print(nb_dog)\n",
    "            if nb_dog == 1 : \n",
    "                print(my_dict[\"annotation\"][\"object\"][\"name\"])\n",
    "                breeds.append( my_dict[\"annotation\"][\"object\"][\"name\"])\n",
    "            else : \n",
    "                for i in range(nb_dog) : \n",
    "                    print(my_dict[\"annotation\"][\"object\"][i][\"name\"])\n",
    "\n",
    "                breeds.append( my_dict[\"annotation\"][\"object\"][i][\"name\"])\n",
    "            nb_dog = nb_dog.append({'number_of_dog' : len(my_dict[\"annotation\"][\"object\"]),\\\n",
    "                                    'breeds' : breeds},ignore_index=True)\n",
    "    return nb_dog\n"
   ]
  },
  {
   "cell_type": "code",
   "execution_count": 91,
   "metadata": {},
   "outputs": [
    {
     "data": {
      "text/plain": [
       "{'name': 'Chihuahua',\n",
       " 'pose': 'Unspecified',\n",
       " 'truncated': '0',\n",
       " 'difficult': '0',\n",
       " 'bndbox': {'xmin': '71', 'ymin': '1', 'xmax': '192', 'ymax': '180'}}"
      ]
     },
     "execution_count": 91,
     "metadata": {},
     "output_type": "execute_result"
    }
   ],
   "source": [
    "my_dict[\"annotation\"][\"object\"]"
   ]
  },
  {
   "cell_type": "code",
   "execution_count": 107,
   "metadata": {},
   "outputs": [
    {
     "name": "stdout",
     "output_type": "stream",
     "text": [
      "{'name': 'Chihuahua', 'pose': 'Unspecified', 'truncated': '0', 'difficult': '0', 'bndbox': {'xmin': '25', 'ymin': '10', 'xmax': '276', 'ymax': '498'}}\n",
      "1\n",
      "Chihuahua\n"
     ]
    },
    {
     "ename": "AttributeError",
     "evalue": "'int' object has no attribute 'append'",
     "output_type": "error",
     "traceback": [
      "\u001b[1;31m---------------------------------------------------------------------------\u001b[0m",
      "\u001b[1;31mAttributeError\u001b[0m                            Traceback (most recent call last)",
      "\u001b[1;32m~\\AppData\\Local\\Temp\\ipykernel_29204\\2443236432.py\u001b[0m in \u001b[0;36m<module>\u001b[1;34m\u001b[0m\n\u001b[1;32m----> 1\u001b[1;33m \u001b[0mnb_dog\u001b[0m \u001b[1;33m=\u001b[0m \u001b[0mget_number_of_dog_per_image\u001b[0m\u001b[1;33m(\u001b[0m\u001b[1;33m)\u001b[0m\u001b[1;33m\u001b[0m\u001b[1;33m\u001b[0m\u001b[0m\n\u001b[0m",
      "\u001b[1;32m~\\AppData\\Local\\Temp\\ipykernel_29204\\575096621.py\u001b[0m in \u001b[0;36mget_number_of_dog_per_image\u001b[1;34m()\u001b[0m\n\u001b[0;32m     29\u001b[0m \u001b[1;33m\u001b[0m\u001b[0m\n\u001b[0;32m     30\u001b[0m                 \u001b[0mbreeds\u001b[0m\u001b[1;33m.\u001b[0m\u001b[0mappend\u001b[0m\u001b[1;33m(\u001b[0m \u001b[0mmy_dict\u001b[0m\u001b[1;33m[\u001b[0m\u001b[1;34m\"annotation\"\u001b[0m\u001b[1;33m]\u001b[0m\u001b[1;33m[\u001b[0m\u001b[1;34m\"object\"\u001b[0m\u001b[1;33m]\u001b[0m\u001b[1;33m[\u001b[0m\u001b[0mi\u001b[0m\u001b[1;33m]\u001b[0m\u001b[1;33m[\u001b[0m\u001b[1;34m\"name\"\u001b[0m\u001b[1;33m]\u001b[0m\u001b[1;33m)\u001b[0m\u001b[1;33m\u001b[0m\u001b[1;33m\u001b[0m\u001b[0m\n\u001b[1;32m---> 31\u001b[1;33m             nb_dog = nb_dog.append({'number_of_dog' : len(my_dict[\"annotation\"][\"object\"]),\\\n\u001b[0m\u001b[0;32m     32\u001b[0m                                     'breeds' : breeds},ignore_index=True)\n\u001b[0;32m     33\u001b[0m     \u001b[1;32mreturn\u001b[0m \u001b[0mnb_dog\u001b[0m\u001b[1;33m\u001b[0m\u001b[1;33m\u001b[0m\u001b[0m\n",
      "\u001b[1;31mAttributeError\u001b[0m: 'int' object has no attribute 'append'"
     ]
    }
   ],
   "source": [
    "nb_dog = get_number_of_dog_per_image()"
   ]
  },
  {
   "cell_type": "code",
   "execution_count": 84,
   "metadata": {},
   "outputs": [
    {
     "data": {
      "text/plain": [
       "{'name': 'Chihuahua',\n",
       " 'pose': 'Unspecified',\n",
       " 'truncated': '0',\n",
       " 'difficult': '0',\n",
       " 'bndbox': {'xmin': '71', 'ymin': '1', 'xmax': '192', 'ymax': '180'}}"
      ]
     },
     "execution_count": 84,
     "metadata": {},
     "output_type": "execute_result"
    }
   ],
   "source": [
    "my_dict[\"annotation\"][\"object\"]"
   ]
  },
  {
   "cell_type": "code",
   "execution_count": 60,
   "metadata": {},
   "outputs": [],
   "source": [
    "with open(test_file, 'r', encoding='utf-8') as file:\n",
    "    my_xml = file.read()"
   ]
  },
  {
   "cell_type": "code",
   "execution_count": 62,
   "metadata": {},
   "outputs": [
    {
     "ename": "AttributeError",
     "evalue": "'str' object has no attribute 'keys'",
     "output_type": "error",
     "traceback": [
      "\u001b[1;31m---------------------------------------------------------------------------\u001b[0m",
      "\u001b[1;31mAttributeError\u001b[0m                            Traceback (most recent call last)",
      "\u001b[1;32m~\\AppData\\Local\\Temp\\ipykernel_29204\\380428757.py\u001b[0m in \u001b[0;36m<module>\u001b[1;34m\u001b[0m\n\u001b[1;32m----> 1\u001b[1;33m \u001b[0mmy_xml\u001b[0m\u001b[1;33m.\u001b[0m\u001b[0mkeys\u001b[0m\u001b[1;33m(\u001b[0m\u001b[1;33m)\u001b[0m\u001b[1;33m\u001b[0m\u001b[1;33m\u001b[0m\u001b[0m\n\u001b[0m",
      "\u001b[1;31mAttributeError\u001b[0m: 'str' object has no attribute 'keys'"
     ]
    }
   ],
   "source": [
    "my_xml.keys()"
   ]
  },
  {
   "cell_type": "code",
   "execution_count": 59,
   "metadata": {},
   "outputs": [
    {
     "name": "stdout",
     "output_type": "stream",
     "text": [
      "object\n",
      "Chihuahua\n"
     ]
    }
   ],
   "source": [
    "img_description = {}\n",
    "for obj in root.iter('object'):\n",
    "\n",
    "    print(obj.tag)\n",
    "    name = obj.find(\"name\").text\n",
    "    name = obj.find(\"pose\").text\n",
    "    name = obj.find(\"name\").text\n",
    "    name = obj.find(\"truncated\").text\n",
    "    name = obj.find(\"difficult\").text\n",
    "    xmin = obj.find(\"xmin\").text\n",
    "    ymin = obj.find(\"ymin\").text\n",
    "    xmax = obj.find(\"xmax\").text\n",
    "    ymax = obj.find(\"ymax\").text\n",
    "    print(name)\n",
    "    img_description.append{\n",
    "        'nam'\n",
    "    }\n",
    "    # print(element) \n",
    "    # name = obj.get(\"name\")\n",
    "    # pose = obj.get(\"pose\")\n",
    "    # print(name)"
   ]
  },
  {
   "cell_type": "code",
   "execution_count": 41,
   "metadata": {},
   "outputs": [
    {
     "data": {
      "text/plain": [
       "['annotation',\n",
       " 'folder',\n",
       " 'filename',\n",
       " 'source',\n",
       " 'database',\n",
       " 'size',\n",
       " 'width',\n",
       " 'height',\n",
       " 'depth',\n",
       " 'segment',\n",
       " 'object',\n",
       " 'name',\n",
       " 'pose',\n",
       " 'truncated',\n",
       " 'difficult',\n",
       " 'bndbox',\n",
       " 'xmin',\n",
       " 'ymin',\n",
       " 'xmax',\n",
       " 'ymax']"
      ]
     },
     "execution_count": 41,
     "metadata": {},
     "output_type": "execute_result"
    }
   ],
   "source": [
    "[elem.tag for elem in root.iter()]"
   ]
  },
  {
   "cell_type": "code",
   "execution_count": 31,
   "metadata": {},
   "outputs": [
    {
     "name": "stdout",
     "output_type": "stream",
     "text": [
      "folder {}\n",
      "<Element 'folder' at 0x00000178963E7B88>\n",
      "filename {}\n",
      "<Element 'filename' at 0x00000178963E7BD8>\n",
      "source {}\n",
      "<Element 'source' at 0x00000178963E7C28>\n",
      "size {}\n",
      "<Element 'size' at 0x00000178963E7D18>\n",
      "segment {}\n",
      "<Element 'segment' at 0x00000178963E7E58>\n",
      "object {}\n",
      "<Element 'object' at 0x00000178963E7EA8>\n"
     ]
    }
   ],
   "source": [
    "for child in root:\n",
    "    print(child.tag, child.attrib)\n",
    "    print(child)"
   ]
  },
  {
   "cell_type": "code",
   "execution_count": 27,
   "metadata": {},
   "outputs": [
    {
     "data": {
      "text/plain": [
       "{}"
      ]
     },
     "execution_count": 27,
     "metadata": {},
     "output_type": "execute_result"
    }
   ],
   "source": [
    "root.attrib"
   ]
  }
 ],
 "metadata": {
  "kernelspec": {
   "display_name": "IMG",
   "language": "python",
   "name": "python3"
  },
  "language_info": {
   "codemirror_mode": {
    "name": "ipython",
    "version": 3
   },
   "file_extension": ".py",
   "mimetype": "text/x-python",
   "name": "python",
   "nbconvert_exporter": "python",
   "pygments_lexer": "ipython3",
   "version": "3.7.9"
  },
  "orig_nbformat": 4
 },
 "nbformat": 4,
 "nbformat_minor": 2
}
